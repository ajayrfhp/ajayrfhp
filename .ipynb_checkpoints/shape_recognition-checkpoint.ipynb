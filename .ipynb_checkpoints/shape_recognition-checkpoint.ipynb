{
 "cells": [
  {
   "cell_type": "code",
   "execution_count": 2,
   "metadata": {},
   "outputs": [
    {
     "name": "stdout",
     "output_type": "stream",
     "text": [
      "done\n"
     ]
    }
   ],
   "source": [
    "from collections import Counter\n",
    "import cv2\n",
    "import glob\n",
    "import matplotlib.pyplot as plt\n",
    "import numpy as np\n",
    "import PIL\n",
    "import pandas as pd\n",
    "from sklearn import preprocessing\n",
    "from sklearn.model_selection import train_test_split\n",
    "import torch\n",
    "import torch.nn as nn\n",
    "import torch.nn.functional as F\n",
    "import torch.optim as optim\n",
    "import torch.utils.data as utils\n",
    "from torchvision import transforms\n",
    "import torchvision.datasets as datasets\n",
    "\n",
    "\n",
    "\n",
    "print('done')"
   ]
  },
  {
   "cell_type": "code",
   "execution_count": 3,
   "metadata": {},
   "outputs": [
    {
     "name": "stdout",
     "output_type": "stream",
     "text": [
      "(14970, 64, 64, 3) 14970\n"
     ]
    },
    {
     "data": {
      "text/plain": [
       "(<torch.utils.data.dataloader.DataLoader at 0x102a37630>,\n",
       " <torch.utils.data.dataloader.DataLoader at 0x11b004240>)"
      ]
     },
     "execution_count": 3,
     "metadata": {},
     "output_type": "execute_result"
    }
   ],
   "source": [
    "def get_images_from_folder(folder_name):\n",
    "    name_map = { 'circle' : 0,\n",
    "                 'square' : 1,\n",
    "                 'star' : 2,\n",
    "                 'triangle' : 3}\n",
    "    images = []\n",
    "    labels = []\n",
    "    for image_file in glob.glob(\"/Users/ajay/deep_learning/autoencoders/shapes_data/\" + folder_name + \"/*.png\"):\n",
    "        image = cv2.imread(image_file)\n",
    "        image = cv2.resize(image, (64,64))\n",
    "        image = image / 255\n",
    "        images.append(image)\n",
    "        labels.append(name_map[folder_name])\n",
    "    \n",
    "    \n",
    "    \n",
    "    return np.array(images), labels\n",
    "\n",
    "circle_images, circle_labels = get_images_from_folder('circle')\n",
    "square_images, square_labels = get_images_from_folder('square')\n",
    "star_images, star_labels = get_images_from_folder('star')\n",
    "triangle_images, triangle_labels = get_images_from_folder('triangle')\n",
    "    \n",
    "\n",
    "images = []\n",
    "labels = []\n",
    "\n",
    "images.extend(circle_images)\n",
    "images.extend(square_images)\n",
    "images.extend(star_images)\n",
    "images.extend(triangle_images)\n",
    "\n",
    "\n",
    "labels.extend(circle_labels)\n",
    "labels.extend(square_labels)\n",
    "labels.extend(star_labels)\n",
    "labels.extend(triangle_labels)\n",
    "\n",
    "images = np.array(images)\n",
    "\n",
    "print(images.shape, len(labels))\n",
    "\n",
    "X_train, X_test, y_train, y_test = train_test_split(\n",
    "    images, labels, test_size=0.33, random_state=42)\n",
    "\n",
    "tensor_X = torch.tensor(X_train, dtype = torch.float32)\n",
    "tensor_y = torch.tensor(y_train, dtype = torch.long)\n",
    "train_data = utils.TensorDataset(tensor_X, tensor_y)\n",
    "train_loader = utils.DataLoader(train_data, shuffle = True, batch_size = 100)\n",
    "\n",
    "\n",
    "\n",
    "tensor_X = torch.tensor(X_test, dtype = torch.float32)\n",
    "tensor_y = torch.tensor(y_test, dtype = torch.long)\n",
    "test_data = utils.TensorDataset(tensor_X, tensor_y)\n",
    "test_loader = utils.DataLoader(test_data, shuffle = True, batch_size = 100)\n",
    "\n",
    "\n",
    "train_loader, test_loader\n",
    "\n",
    "\n"
   ]
  },
  {
   "cell_type": "code",
   "execution_count": 6,
   "metadata": {},
   "outputs": [
    {
     "data": {
      "text/plain": [
       "Classifier(\n",
       "  (conv1): Conv2d(3, 16, kernel_size=(3, 3), stride=(1, 1))\n",
       "  (pool): MaxPool2d(kernel_size=2, stride=2, padding=0, dilation=1, ceil_mode=False)\n",
       "  (conv2): Conv2d(16, 32, kernel_size=(3, 3), stride=(1, 1))\n",
       "  (conv3): Conv2d(32, 64, kernel_size=(3, 3), stride=(1, 1))\n",
       "  (fc1): Linear(in_features=2304, out_features=512, bias=True)\n",
       "  (encoding): Linear(in_features=512, out_features=50, bias=True)\n",
       "  (fc2): Linear(in_features=50, out_features=4, bias=True)\n",
       ")"
      ]
     },
     "execution_count": 6,
     "metadata": {},
     "output_type": "execute_result"
    }
   ],
   "source": [
    "class Classifier(nn.Module):\n",
    "    def __init__(self):\n",
    "        super(Classifier, self).__init__()\n",
    "        self.conv1 = nn.Conv2d(3, 16, 3)\n",
    "        self.pool = nn.MaxPool2d(2,2)\n",
    "        self.conv2 = nn.Conv2d(16,32,3)\n",
    "        self.conv3 = nn.Conv2d(32,64,3)\n",
    "        self.fc1 = nn.Linear(64 * 6 * 6, 512)\n",
    "        self.encoding = nn.Linear(512,50)\n",
    "        self.fc2 = nn.Linear(50,4)\n",
    "        \n",
    "        \n",
    "    def forward(self, x):\n",
    "        x = x.reshape((x.shape[0],3,64,64))\n",
    "        x = self.pool(torch.relu(self.conv1(x)))\n",
    "        x = self.pool(torch.relu(self.conv2(x)))\n",
    "        x = self.pool(torch.relu(self.conv3(x)))\n",
    "        \n",
    "        x = x.reshape((x.shape[0], x.shape[1] * x.shape[2] * x.shape[3]))\n",
    "        x = torch.relu(self.fc1(x))\n",
    "        encoded = torch.relu(self.encoding(x))\n",
    "        \n",
    "        return self.fc2(encoded), encoded\n",
    "        \n",
    "\n",
    "    \n",
    "classifier = Classifier()\n",
    "classifier(torch.randn((10,3,64,64)))\n",
    "classifier"
   ]
  },
  {
   "cell_type": "code",
   "execution_count": 7,
   "metadata": {},
   "outputs": [
    {
     "name": "stdout",
     "output_type": "stream",
     "text": [
      "done\n"
     ]
    }
   ],
   "source": [
    "criterion = nn.CrossEntropyLoss()\n",
    "optimizer = optim.SGD(classifier.parameters(), lr=0.001, momentum = 0.9)\n",
    "print('done')"
   ]
  },
  {
   "cell_type": "code",
   "execution_count": null,
   "metadata": {},
   "outputs": [],
   "source": [
    "def fit(model, train_loader, metric, optimizer, epochs = 5, log_every = 100):\n",
    "    for j in range(epochs):\n",
    "        total = 0\n",
    "        correct = 0\n",
    "        losses = []\n",
    "        for i, (inputs, outputs) in enumerate(train_loader):\n",
    "            optimizer.zero_grad()\n",
    "            predictions, encoded = model(inputs)\n",
    "            loss = metric(predictions, outputs)  \n",
    "            # loss += 0.001 * torch.sum(torch.abs(encoded))\n",
    "            correct += sum(torch.max(predictions, -1)[1] == outputs).item()\n",
    "            total += predictions.shape[0]\n",
    "            loss.backward()\n",
    "            optimizer.step()\n",
    "            losses.append(loss.item())\n",
    "            if i%log_every == 0:\n",
    "                print(j, np.mean(losses), correct/total)\n",
    "                \n",
    "fit(classifier, train_loader, criterion, optimizer, epochs = 5, log_every = 100)"
   ]
  },
  {
   "cell_type": "code",
   "execution_count": null,
   "metadata": {},
   "outputs": [],
   "source": [
    "# Monitor accuracy in test and train \n",
    "# Quality monitoring visualizaing incorrect and correct in test and train\n",
    "# Transfer learning\n",
    "# Image augmentations\n",
    "# Visualzaing what conv layers learn\n",
    "# Visualize what activations learn\n",
    "\n",
    "def evaluate(model, test_loader):\n",
    "    correct = 0\n",
    "    total = 0\n",
    "    for i, data in enumerate(test_loader):\n",
    "        inputs, outputs = data\n",
    "        predictions, encoded = model(inputs)\n",
    "        predictions = torch.max(predictions, -1)[1]\n",
    "        correct += sum(predictions == outputs).item()\n",
    "        total += predictions.shape[0]\n",
    "    return correct / total\n",
    "        \n",
    "        \n",
    "evaluate(classifier, test_loader)"
   ]
  },
  {
   "cell_type": "code",
   "execution_count": null,
   "metadata": {},
   "outputs": [],
   "source": []
  }
 ],
 "metadata": {
  "kernelspec": {
   "display_name": "Python 3",
   "language": "python",
   "name": "python3"
  },
  "language_info": {
   "codemirror_mode": {
    "name": "ipython",
    "version": 3
   },
   "file_extension": ".py",
   "mimetype": "text/x-python",
   "name": "python",
   "nbconvert_exporter": "python",
   "pygments_lexer": "ipython3",
   "version": "3.7.0"
  }
 },
 "nbformat": 4,
 "nbformat_minor": 2
}
